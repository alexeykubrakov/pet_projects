{
 "cells": [
  {
   "cell_type": "code",
   "execution_count": 4,
   "id": "de09e385-7171-4b9a-a840-5a3340ca0038",
   "metadata": {},
   "outputs": [],
   "source": [
    "import numpy as np\n",
    "import pandas as pd\n",
    "import scipy.stats as stats\n",
    "import matplotlib.pyplot as plt\n",
    "import seaborn as sns\n",
    "from tqdm import tqdm"
   ]
  },
  {
   "cell_type": "markdown",
   "id": "2362a291-fa34-4c92-b72d-68810747e8bc",
   "metadata": {},
   "source": [
    "## __Задание:__\n",
    "## У нас есть данные А/А-теста с 25.11.2022 по 01.12.2022. Вам нужно сделать симуляцию, как будто мы провели 10000 АА-тестов. На каждой итерации вам нужно сформировать подвыборки без повторения в 500 юзеров из 2 и 3 экспериментальной группы. Провести сравнение этих подвыборок t-тестом. Написать вывод по проведенному А/А-тесту, корректно ли работает наша система сплитования."
   ]
  },
  {
   "cell_type": "code",
   "execution_count": 14,
   "id": "61590f98-fe9a-4089-9908-7835b8826c1b",
   "metadata": {},
   "outputs": [
    {
     "data": {
      "text/html": [
       "<div>\n",
       "<style scoped>\n",
       "    .dataframe tbody tr th:only-of-type {\n",
       "        vertical-align: middle;\n",
       "    }\n",
       "\n",
       "    .dataframe tbody tr th {\n",
       "        vertical-align: top;\n",
       "    }\n",
       "\n",
       "    .dataframe thead th {\n",
       "        text-align: right;\n",
       "    }\n",
       "</style>\n",
       "<table border=\"1\" class=\"dataframe\">\n",
       "  <thead>\n",
       "    <tr style=\"text-align: right;\">\n",
       "      <th></th>\n",
       "      <th>exp_group</th>\n",
       "      <th>user_id</th>\n",
       "      <th>likes</th>\n",
       "      <th>views</th>\n",
       "    </tr>\n",
       "  </thead>\n",
       "  <tbody>\n",
       "    <tr>\n",
       "      <th>0</th>\n",
       "      <td>1</td>\n",
       "      <td>18392</td>\n",
       "      <td>8</td>\n",
       "      <td>39</td>\n",
       "    </tr>\n",
       "    <tr>\n",
       "      <th>1</th>\n",
       "      <td>3</td>\n",
       "      <td>115383</td>\n",
       "      <td>11</td>\n",
       "      <td>36</td>\n",
       "    </tr>\n",
       "    <tr>\n",
       "      <th>2</th>\n",
       "      <td>3</td>\n",
       "      <td>123580</td>\n",
       "      <td>15</td>\n",
       "      <td>92</td>\n",
       "    </tr>\n",
       "    <tr>\n",
       "      <th>3</th>\n",
       "      <td>2</td>\n",
       "      <td>131473</td>\n",
       "      <td>26</td>\n",
       "      <td>148</td>\n",
       "    </tr>\n",
       "    <tr>\n",
       "      <th>4</th>\n",
       "      <td>4</td>\n",
       "      <td>107323</td>\n",
       "      <td>5</td>\n",
       "      <td>26</td>\n",
       "    </tr>\n",
       "  </tbody>\n",
       "</table>\n",
       "</div>"
      ],
      "text/plain": [
       "   exp_group  user_id  likes  views\n",
       "0          1    18392      8     39\n",
       "1          3   115383     11     36\n",
       "2          3   123580     15     92\n",
       "3          2   131473     26    148\n",
       "4          4   107323      5     26"
      ]
     },
     "execution_count": 14,
     "metadata": {},
     "output_type": "execute_result"
    }
   ],
   "source": [
    "dir_path = '~/data_files/'\n",
    "df = pd.read_csv(dir_path + 'aa_test_data.zip', compression='zip')\n",
    "\n",
    "df.head()"
   ]
  },
  {
   "cell_type": "code",
   "execution_count": 15,
   "id": "93b0a50c-42d7-40ce-baad-c6b826df8e36",
   "metadata": {},
   "outputs": [
    {
     "data": {
      "text/html": [
       "<div>\n",
       "<style scoped>\n",
       "    .dataframe tbody tr th:only-of-type {\n",
       "        vertical-align: middle;\n",
       "    }\n",
       "\n",
       "    .dataframe tbody tr th {\n",
       "        vertical-align: top;\n",
       "    }\n",
       "\n",
       "    .dataframe thead th {\n",
       "        text-align: right;\n",
       "    }\n",
       "</style>\n",
       "<table border=\"1\" class=\"dataframe\">\n",
       "  <thead>\n",
       "    <tr style=\"text-align: right;\">\n",
       "      <th></th>\n",
       "      <th>exp_group</th>\n",
       "      <th>user_id</th>\n",
       "      <th>likes</th>\n",
       "      <th>views</th>\n",
       "      <th>ctr</th>\n",
       "    </tr>\n",
       "  </thead>\n",
       "  <tbody>\n",
       "    <tr>\n",
       "      <th>0</th>\n",
       "      <td>1</td>\n",
       "      <td>18392</td>\n",
       "      <td>8</td>\n",
       "      <td>39</td>\n",
       "      <td>0.205</td>\n",
       "    </tr>\n",
       "    <tr>\n",
       "      <th>1</th>\n",
       "      <td>3</td>\n",
       "      <td>115383</td>\n",
       "      <td>11</td>\n",
       "      <td>36</td>\n",
       "      <td>0.306</td>\n",
       "    </tr>\n",
       "    <tr>\n",
       "      <th>2</th>\n",
       "      <td>3</td>\n",
       "      <td>123580</td>\n",
       "      <td>15</td>\n",
       "      <td>92</td>\n",
       "      <td>0.163</td>\n",
       "    </tr>\n",
       "    <tr>\n",
       "      <th>3</th>\n",
       "      <td>2</td>\n",
       "      <td>131473</td>\n",
       "      <td>26</td>\n",
       "      <td>148</td>\n",
       "      <td>0.176</td>\n",
       "    </tr>\n",
       "    <tr>\n",
       "      <th>4</th>\n",
       "      <td>4</td>\n",
       "      <td>107323</td>\n",
       "      <td>5</td>\n",
       "      <td>26</td>\n",
       "      <td>0.192</td>\n",
       "    </tr>\n",
       "  </tbody>\n",
       "</table>\n",
       "</div>"
      ],
      "text/plain": [
       "   exp_group  user_id  likes  views    ctr\n",
       "0          1    18392      8     39  0.205\n",
       "1          3   115383     11     36  0.306\n",
       "2          3   123580     15     92  0.163\n",
       "3          2   131473     26    148  0.176\n",
       "4          4   107323      5     26  0.192"
      ]
     },
     "execution_count": 15,
     "metadata": {},
     "output_type": "execute_result"
    }
   ],
   "source": [
    "# Рассчитываем значение CTR.\n",
    "\n",
    "df['ctr'] = round(df.likes / df.views, 3)\n",
    "df.head()"
   ]
  },
  {
   "cell_type": "code",
   "execution_count": 16,
   "id": "8a07d1a7-8205-4ac4-89bc-72ab47b6de40",
   "metadata": {},
   "outputs": [
    {
     "data": {
      "text/html": [
       "<div>\n",
       "<style scoped>\n",
       "    .dataframe tbody tr th:only-of-type {\n",
       "        vertical-align: middle;\n",
       "    }\n",
       "\n",
       "    .dataframe tbody tr th {\n",
       "        vertical-align: top;\n",
       "    }\n",
       "\n",
       "    .dataframe thead th {\n",
       "        text-align: right;\n",
       "    }\n",
       "</style>\n",
       "<table border=\"1\" class=\"dataframe\">\n",
       "  <thead>\n",
       "    <tr style=\"text-align: right;\">\n",
       "      <th></th>\n",
       "      <th>user_id</th>\n",
       "      <th>ctr</th>\n",
       "    </tr>\n",
       "    <tr>\n",
       "      <th>exp_group</th>\n",
       "      <th></th>\n",
       "      <th></th>\n",
       "    </tr>\n",
       "  </thead>\n",
       "  <tbody>\n",
       "    <tr>\n",
       "      <th>0</th>\n",
       "      <td>8484</td>\n",
       "      <td>0.218194</td>\n",
       "    </tr>\n",
       "    <tr>\n",
       "      <th>1</th>\n",
       "      <td>8537</td>\n",
       "      <td>0.215741</td>\n",
       "    </tr>\n",
       "    <tr>\n",
       "      <th>2</th>\n",
       "      <td>8480</td>\n",
       "      <td>0.218241</td>\n",
       "    </tr>\n",
       "    <tr>\n",
       "      <th>3</th>\n",
       "      <td>8569</td>\n",
       "      <td>0.219157</td>\n",
       "    </tr>\n",
       "    <tr>\n",
       "      <th>4</th>\n",
       "      <td>8515</td>\n",
       "      <td>0.218723</td>\n",
       "    </tr>\n",
       "  </tbody>\n",
       "</table>\n",
       "</div>"
      ],
      "text/plain": [
       "           user_id       ctr\n",
       "exp_group                   \n",
       "0             8484  0.218194\n",
       "1             8537  0.215741\n",
       "2             8480  0.218241\n",
       "3             8569  0.219157\n",
       "4             8515  0.218723"
      ]
     },
     "execution_count": 16,
     "metadata": {},
     "output_type": "execute_result"
    }
   ],
   "source": [
    "# Взглянем на CTR и количество пользователей во всех группах.\n",
    "\n",
    "df.groupby('exp_group').agg({'user_id':'count','ctr':'mean'})"
   ]
  },
  {
   "cell_type": "code",
   "execution_count": 17,
   "id": "78353816-c929-4655-9184-fd9691194522",
   "metadata": {},
   "outputs": [
    {
     "data": {
      "text/html": [
       "<div>\n",
       "<style scoped>\n",
       "    .dataframe tbody tr th:only-of-type {\n",
       "        vertical-align: middle;\n",
       "    }\n",
       "\n",
       "    .dataframe tbody tr th {\n",
       "        vertical-align: top;\n",
       "    }\n",
       "\n",
       "    .dataframe thead th {\n",
       "        text-align: right;\n",
       "    }\n",
       "</style>\n",
       "<table border=\"1\" class=\"dataframe\">\n",
       "  <thead>\n",
       "    <tr style=\"text-align: right;\">\n",
       "      <th></th>\n",
       "      <th>user_id</th>\n",
       "      <th>ctr</th>\n",
       "    </tr>\n",
       "    <tr>\n",
       "      <th>exp_group</th>\n",
       "      <th></th>\n",
       "      <th></th>\n",
       "    </tr>\n",
       "  </thead>\n",
       "  <tbody>\n",
       "    <tr>\n",
       "      <th>2</th>\n",
       "      <td>8480</td>\n",
       "      <td>0.218241</td>\n",
       "    </tr>\n",
       "    <tr>\n",
       "      <th>3</th>\n",
       "      <td>8569</td>\n",
       "      <td>0.219157</td>\n",
       "    </tr>\n",
       "  </tbody>\n",
       "</table>\n",
       "</div>"
      ],
      "text/plain": [
       "           user_id       ctr\n",
       "exp_group                   \n",
       "2             8480  0.218241\n",
       "3             8569  0.219157"
      ]
     },
     "execution_count": 17,
     "metadata": {},
     "output_type": "execute_result"
    }
   ],
   "source": [
    "# Сохраним отдельно информацию только о необходимых нам группах 2 и 3.\n",
    "\n",
    "df = df.query('exp_group in (2, 3)').copy()\n",
    "\n",
    "df.groupby('exp_group').agg({'user_id':'count','ctr':'mean'})"
   ]
  },
  {
   "cell_type": "code",
   "execution_count": 18,
   "id": "1fc6a34c-8675-417a-acca-ed3fe5a445c0",
   "metadata": {},
   "outputs": [],
   "source": [
    "# Сделаем графики в seaborn покрупнее.\n",
    "\n",
    "sns.set(rc={'figure.figsize':(11.7,8.27)})"
   ]
  },
  {
   "cell_type": "code",
   "execution_count": 19,
   "id": "14b7171d-ead4-4ece-bb26-0cb28630b2c1",
   "metadata": {},
   "outputs": [
    {
     "data": {
      "text/plain": [
       "[Text(0.5, 0, 'CTR'), Text(0, 0.5, '')]"
      ]
     },
     "execution_count": 19,
     "metadata": {},
     "output_type": "execute_result"
    },
    {
     "data": {
      "image/png": "[encoded data removed]",
      "text/plain": [
       "<Figure size 1170x827 with 1 Axes>"
      ]
     },
     "metadata": {},
     "output_type": "display_data"
    }
   ],
   "source": [
    "# Нарисуем распределения CTR в группах 2 и 3, чтобы ознакомиться с их формой и визуально оценить,\n",
    "# насколько метрики в этих группах похожи.\n",
    "\n",
    "groups = sns.histplot(data = df, \n",
    "              x='ctr',\n",
    "              hue='exp_group', \n",
    "              palette = ['r', 'b'],\n",
    "              alpha=0.5,\n",
    "              kde=False)\n",
    "groups.set(xlabel='CTR', ylabel='')"
   ]
  },
  {
   "cell_type": "code",
   "execution_count": 20,
   "id": "09a52928-8da7-4d2b-8771-391bbac2de23",
   "metadata": {},
   "outputs": [],
   "source": [
    "def aa_test(group1, group2, iterations=1000, n_users=100):\n",
    "    assert group1.shape[0] >= n_users and group2.shape[0] >= n_users\n",
    "    t_test_values = []\n",
    "    u_test_values = []\n",
    "    for _ in tqdm(range(iterations)):\n",
    "        sample1 = group1.sample(n_users, replace=False)\n",
    "        sample2 = group2.sample(n_users, replace=False)\n",
    "        ctr1 = sample1.likes / sample1.views\n",
    "        ctr2 = sample2.likes / sample2.views\n",
    "        _, pval_t = stats.ttest_ind(ctr1, ctr2, equal_var=False)\n",
    "        t_test_values.append(pval_t)\n",
    "        _, pval_u = stats.mannwhitneyu(ctr1, ctr2, alternative='two-sided')\n",
    "        u_test_values.append(pval_u)\n",
    "    return t_test_values, u_test_values"
   ]
  },
  {
   "cell_type": "code",
   "execution_count": 21,
   "id": "ac2c429b-3e1e-41cc-84cf-b06b137d8dc5",
   "metadata": {},
   "outputs": [
    {
     "name": "stderr",
     "output_type": "stream",
     "text": [
      "100%|██████████| 10000/10000 [00:22<00:00, 441.75it/s]\n"
     ]
    }
   ],
   "source": [
    "# Применим к обеим группам при помощи симуляции многократно как t-тест, так и тест Манна-Уитни,\n",
    "# с целью сравнения полученных p-value.\n",
    "\n",
    "t_test_values, u_test_values = aa_test(df[df.exp_group == 2], df[df.exp_group == 3], iterations=10000, n_users=500)"
   ]
  },
  {
   "cell_type": "code",
   "execution_count": 22,
   "id": "8c692b23-b6d4-4a7f-9d78-3c65b9ab7c49",
   "metadata": {},
   "outputs": [
    {
     "data": {
      "text/plain": [
       "[Text(0.5, 0, 'p-values'), Text(0, 0.5, '')]"
      ]
     },
     "execution_count": 22,
     "metadata": {},
     "output_type": "execute_result"
    },
    {
     "data": {
      "image/png": "[encoded data removed]",
      "text/plain": [
       "<Figure size 1170x827 with 1 Axes>"
      ]
     },
     "metadata": {},
     "output_type": "display_data"
    }
   ],
   "source": [
    "# Построим график распределения p-value, полученных в результате сравнения групп t-тестом.\n",
    "# Он должен быть похож на равномерное распределение в случае корректного А/А-теста.\n",
    "\n",
    "ax = sns.histplot(t_test_values, bins=50)\n",
    "ax.set(xlabel='p-values', ylabel='')"
   ]
  },
  {
   "cell_type": "code",
   "execution_count": 23,
   "id": "02671dcd-e2ec-45b1-808a-d70999b39ba6",
   "metadata": {},
   "outputs": [
    {
     "name": "stdout",
     "output_type": "stream",
     "text": [
      "0.0459\n"
     ]
    }
   ],
   "source": [
    "# Посчитаем в скольки процентах случаев мы получим ошибку 1-го рода в результате сравнения групп t-тестом.\n",
    "# Для 95% интервала это должно быть в менее чем 5% случаев.\n",
    "\n",
    "counter = 0\n",
    "for i in t_test_values:\n",
    "    if i <= 0.05:\n",
    "        counter += 1\n",
    "print(counter/len(t_test_values))"
   ]
  },
  {
   "cell_type": "code",
   "execution_count": 24,
   "id": "51bd5046-faf3-4d40-8135-fbc68cc3255a",
   "metadata": {},
   "outputs": [
    {
     "data": {
      "text/plain": [
       "[Text(0.5, 0, 'p-values'), Text(0, 0.5, '')]"
      ]
     },
     "execution_count": 24,
     "metadata": {},
     "output_type": "execute_result"
    },
    {
     "data": {
      "image/png": "[encoded data removed]",
      "text/plain": [
       "<Figure size 1170x827 with 1 Axes>"
      ]
     },
     "metadata": {},
     "output_type": "display_data"
    }
   ],
   "source": [
    "# Построим график распределения p-value, полученных в результате сравнения групп тестом Манна-Уитни.\n",
    "# Он должен быть похож на равномерное распределение в случае корректного А/А-теста.\n",
    "\n",
    "ax = sns.histplot(u_test_values, bins=50)\n",
    "ax.set(xlabel='p-values', ylabel='')"
   ]
  },
  {
   "cell_type": "code",
   "execution_count": 25,
   "id": "3bd2b41c-8a46-4426-a064-a5bd5fa47b41",
   "metadata": {},
   "outputs": [
    {
     "name": "stdout",
     "output_type": "stream",
     "text": [
      "0.0458\n"
     ]
    }
   ],
   "source": [
    "# Посчитаем в скольки процентах случаев мы получим ошибку 1-го рода в результате сравнения групп тестом Манна-Уитни.\n",
    "# Для 95% интервала это должно быть в менее чем 5% случаев.\n",
    "\n",
    "counter = 0\n",
    "for i in u_test_values:\n",
    "    if i <= 0.05:\n",
    "        counter += 1\n",
    "print(counter/len(u_test_values))"
   ]
  },
  {
   "cell_type": "markdown",
   "id": "89fff61e-5f6c-440e-8d68-5ce3138c3039",
   "metadata": {},
   "source": [
    "## На основании проведенного А/А-теста можно сделать вывод о корректности работы используемой системы сплитования, поскольку оба теста (t-тест и тест Манна-Уитни) при проведении 10000 симуляций вернули равномерно распределенные значения p-value, при этом значения p-value ≤ 0.05 появляются в менее чем 5% случаев."
   ]
  }
 ],
 "metadata": {
  "kernelspec": {
   "display_name": "Python 3 (ipykernel)",
   "language": "python",
   "name": "python3"
  },
  "language_info": {
   "codemirror_mode": {
    "name": "ipython",
    "version": 3
   },
   "file_extension": ".py",
   "mimetype": "text/x-python",
   "name": "python",
   "nbconvert_exporter": "python",
   "pygments_lexer": "ipython3",
   "version": "3.9.13"
  }
 },
 "nbformat": 4,
 "nbformat_minor": 5
}
