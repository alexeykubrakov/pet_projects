{
 "cells": [
  {
   "cell_type": "code",
   "execution_count": 1,
   "id": "de09e385-7171-4b9a-a840-5a3340ca0038",
   "metadata": {},
   "outputs": [],
   "source": [
    "import numpy as np\n",
    "import pandas as pd\n",
    "import scipy.stats as stats\n",
    "import matplotlib.pyplot as plt\n",
    "import seaborn as sns\n",
    "\n",
    "%matplotlib inline"
   ]
  },
  {
   "cell_type": "markdown",
   "id": "2dcd4814-1f27-4fc0-98c0-41dbe760e441",
   "metadata": {},
   "source": [
    "## __Задание:__\n",
    "## Проанализируйте тест между группами 0 и 3 по метрике линеаризованных лайков. Видно ли отличие? Стало ли 𝑝-𝑣𝑎𝑙𝑢𝑒 меньше? Проанализируйте тест между группами 1 и 2 по метрике линеаризованных лайков. Видно ли отличие? Стало ли 𝑝-𝑣𝑎𝑙𝑢𝑒 меньше?"
   ]
  },
  {
   "cell_type": "code",
   "execution_count": 2,
   "id": "dbfffdc8-7e02-4967-a6f5-dc09d5a700a0",
   "metadata": {},
   "outputs": [
    {
     "data": {
      "text/html": [
       "<div>\n",
       "<style scoped>\n",
       "    .dataframe tbody tr th:only-of-type {\n",
       "        vertical-align: middle;\n",
       "    }\n",
       "\n",
       "    .dataframe tbody tr th {\n",
       "        vertical-align: top;\n",
       "    }\n",
       "\n",
       "    .dataframe thead th {\n",
       "        text-align: right;\n",
       "    }\n",
       "</style>\n",
       "<table border=\"1\" class=\"dataframe\">\n",
       "  <thead>\n",
       "    <tr style=\"text-align: right;\">\n",
       "      <th></th>\n",
       "      <th>exp_group</th>\n",
       "      <th>user_id</th>\n",
       "      <th>likes</th>\n",
       "      <th>views</th>\n",
       "    </tr>\n",
       "  </thead>\n",
       "  <tbody>\n",
       "    <tr>\n",
       "      <th>0</th>\n",
       "      <td>3</td>\n",
       "      <td>115383</td>\n",
       "      <td>9</td>\n",
       "      <td>30</td>\n",
       "    </tr>\n",
       "    <tr>\n",
       "      <th>1</th>\n",
       "      <td>1</td>\n",
       "      <td>18392</td>\n",
       "      <td>7</td>\n",
       "      <td>32</td>\n",
       "    </tr>\n",
       "    <tr>\n",
       "      <th>2</th>\n",
       "      <td>3</td>\n",
       "      <td>123580</td>\n",
       "      <td>13</td>\n",
       "      <td>48</td>\n",
       "    </tr>\n",
       "    <tr>\n",
       "      <th>3</th>\n",
       "      <td>2</td>\n",
       "      <td>131473</td>\n",
       "      <td>14</td>\n",
       "      <td>134</td>\n",
       "    </tr>\n",
       "    <tr>\n",
       "      <th>4</th>\n",
       "      <td>2</td>\n",
       "      <td>32420</td>\n",
       "      <td>26</td>\n",
       "      <td>128</td>\n",
       "    </tr>\n",
       "  </tbody>\n",
       "</table>\n",
       "</div>"
      ],
      "text/plain": [
       "   exp_group  user_id  likes  views\n",
       "0          3   115383      9     30\n",
       "1          1    18392      7     32\n",
       "2          3   123580     13     48\n",
       "3          2   131473     14    134\n",
       "4          2    32420     26    128"
      ]
     },
     "execution_count": 2,
     "metadata": {},
     "output_type": "execute_result"
    }
   ],
   "source": [
    "dir_path = '~/data_files/'\n",
    "df = pd.read_csv(dir_path + 'linearized_likes_ab_test_data.zip', compression='zip')\n",
    "\n",
    "df.head()"
   ]
  },
  {
   "cell_type": "code",
   "execution_count": 3,
   "id": "d0df058b-f1bb-4b02-a44d-ac764f39e87e",
   "metadata": {},
   "outputs": [
    {
     "data": {
      "text/html": [
       "<div>\n",
       "<style scoped>\n",
       "    .dataframe tbody tr th:only-of-type {\n",
       "        vertical-align: middle;\n",
       "    }\n",
       "\n",
       "    .dataframe tbody tr th {\n",
       "        vertical-align: top;\n",
       "    }\n",
       "\n",
       "    .dataframe thead th {\n",
       "        text-align: right;\n",
       "    }\n",
       "</style>\n",
       "<table border=\"1\" class=\"dataframe\">\n",
       "  <thead>\n",
       "    <tr style=\"text-align: right;\">\n",
       "      <th></th>\n",
       "      <th>exp_group</th>\n",
       "      <th>user_id</th>\n",
       "      <th>likes</th>\n",
       "      <th>views</th>\n",
       "      <th>ctr</th>\n",
       "    </tr>\n",
       "  </thead>\n",
       "  <tbody>\n",
       "    <tr>\n",
       "      <th>0</th>\n",
       "      <td>3</td>\n",
       "      <td>115383</td>\n",
       "      <td>9</td>\n",
       "      <td>30</td>\n",
       "      <td>0.300</td>\n",
       "    </tr>\n",
       "    <tr>\n",
       "      <th>1</th>\n",
       "      <td>1</td>\n",
       "      <td>18392</td>\n",
       "      <td>7</td>\n",
       "      <td>32</td>\n",
       "      <td>0.219</td>\n",
       "    </tr>\n",
       "    <tr>\n",
       "      <th>2</th>\n",
       "      <td>3</td>\n",
       "      <td>123580</td>\n",
       "      <td>13</td>\n",
       "      <td>48</td>\n",
       "      <td>0.271</td>\n",
       "    </tr>\n",
       "    <tr>\n",
       "      <th>3</th>\n",
       "      <td>2</td>\n",
       "      <td>131473</td>\n",
       "      <td>14</td>\n",
       "      <td>134</td>\n",
       "      <td>0.104</td>\n",
       "    </tr>\n",
       "    <tr>\n",
       "      <th>4</th>\n",
       "      <td>2</td>\n",
       "      <td>32420</td>\n",
       "      <td>26</td>\n",
       "      <td>128</td>\n",
       "      <td>0.203</td>\n",
       "    </tr>\n",
       "  </tbody>\n",
       "</table>\n",
       "</div>"
      ],
      "text/plain": [
       "   exp_group  user_id  likes  views    ctr\n",
       "0          3   115383      9     30  0.300\n",
       "1          1    18392      7     32  0.219\n",
       "2          3   123580     13     48  0.271\n",
       "3          2   131473     14    134  0.104\n",
       "4          2    32420     26    128  0.203"
      ]
     },
     "execution_count": 3,
     "metadata": {},
     "output_type": "execute_result"
    }
   ],
   "source": [
    "# Рассчитываем значение CTR.\n",
    "\n",
    "df['ctr'] = round(df.likes / df.views, 3)\n",
    "df.head()"
   ]
  },
  {
   "cell_type": "code",
   "execution_count": 4,
   "id": "78353816-c929-4655-9184-fd9691194522",
   "metadata": {},
   "outputs": [
    {
     "data": {
      "text/html": [
       "<div>\n",
       "<style scoped>\n",
       "    .dataframe tbody tr th:only-of-type {\n",
       "        vertical-align: middle;\n",
       "    }\n",
       "\n",
       "    .dataframe tbody tr th {\n",
       "        vertical-align: top;\n",
       "    }\n",
       "\n",
       "    .dataframe thead th {\n",
       "        text-align: right;\n",
       "    }\n",
       "</style>\n",
       "<table border=\"1\" class=\"dataframe\">\n",
       "  <thead>\n",
       "    <tr style=\"text-align: right;\">\n",
       "      <th></th>\n",
       "      <th>user_id</th>\n",
       "      <th>ctr</th>\n",
       "    </tr>\n",
       "    <tr>\n",
       "      <th>exp_group</th>\n",
       "      <th></th>\n",
       "      <th></th>\n",
       "    </tr>\n",
       "  </thead>\n",
       "  <tbody>\n",
       "    <tr>\n",
       "      <th>0</th>\n",
       "      <td>9999</td>\n",
       "      <td>0.215945</td>\n",
       "    </tr>\n",
       "    <tr>\n",
       "      <th>1</th>\n",
       "      <td>10079</td>\n",
       "      <td>0.215604</td>\n",
       "    </tr>\n",
       "    <tr>\n",
       "      <th>2</th>\n",
       "      <td>9952</td>\n",
       "      <td>0.214407</td>\n",
       "    </tr>\n",
       "    <tr>\n",
       "      <th>3</th>\n",
       "      <td>10049</td>\n",
       "      <td>0.232621</td>\n",
       "    </tr>\n",
       "  </tbody>\n",
       "</table>\n",
       "</div>"
      ],
      "text/plain": [
       "           user_id       ctr\n",
       "exp_group                   \n",
       "0             9999  0.215945\n",
       "1            10079  0.215604\n",
       "2             9952  0.214407\n",
       "3            10049  0.232621"
      ]
     },
     "execution_count": 4,
     "metadata": {},
     "output_type": "execute_result"
    }
   ],
   "source": [
    "# Взглянем на CTR и количество пользователей во всех группах.\n",
    "\n",
    "df.groupby('exp_group').agg({'user_id':'count','ctr':'mean'})"
   ]
  },
  {
   "cell_type": "code",
   "execution_count": 5,
   "id": "16f32ad2-96b5-4b57-a63a-a1fb9390dc2a",
   "metadata": {},
   "outputs": [],
   "source": [
    "# Сделаем графики в seaborn покрупнее.\n",
    "\n",
    "sns.set(rc={'figure.figsize':(11.7,8.27)})"
   ]
  },
  {
   "cell_type": "code",
   "execution_count": 6,
   "id": "a7e7fe7c-fdd2-4932-b8e2-c390ac99663d",
   "metadata": {},
   "outputs": [],
   "source": [
    "# Разделим датафрейм на отдельные тестовые группы.\n",
    "\n",
    "group1 = df[df.exp_group == 1].copy()\n",
    "group2 = df[df.exp_group == 2].copy()\n",
    "group0 = df[df.exp_group == 0].copy()\n",
    "group3 = df[df.exp_group == 3].copy()"
   ]
  },
  {
   "cell_type": "code",
   "execution_count": 7,
   "id": "18cbc7cf-efd7-4753-a220-b29dd20779bb",
   "metadata": {},
   "outputs": [
    {
     "data": {
      "text/plain": [
       "0.20802680490126244"
      ]
     },
     "execution_count": 7,
     "metadata": {},
     "output_type": "execute_result"
    }
   ],
   "source": [
    "# Определим общий CTR в контрольной группе 1.\n",
    "\n",
    "CTRcontrol_g1 = sum(group1.likes) / sum(group1.views)\n",
    "CTRcontrol_g1"
   ]
  },
  {
   "cell_type": "code",
   "execution_count": 8,
   "id": "fa0a38c2-15e5-47d5-8056-9c8cb4ff3cef",
   "metadata": {},
   "outputs": [
    {
     "data": {
      "text/plain": [
       "0.20823612262916305"
      ]
     },
     "execution_count": 8,
     "metadata": {},
     "output_type": "execute_result"
    }
   ],
   "source": [
    "# Определим общий CTR в контрольной группе 0.\n",
    "\n",
    "CTRcontrol_g0 = sum(group0.likes) / sum(group0.views)\n",
    "CTRcontrol_g0"
   ]
  },
  {
   "cell_type": "code",
   "execution_count": 9,
   "id": "64510613-ba0a-4524-adda-7e74d70048dc",
   "metadata": {},
   "outputs": [],
   "source": [
    "# Посчитаем метрику линеаризованных лайков в контрольной группе 1.\n",
    "\n",
    "group1['linearized_likes'] = group1.likes - CTRcontrol_g1*group1.views"
   ]
  },
  {
   "cell_type": "code",
   "execution_count": 10,
   "id": "1e72724d-1b97-4539-9758-dfdc193670ce",
   "metadata": {},
   "outputs": [],
   "source": [
    "# Посчитаем метрику линеаризованных лайков в тестовой группе 2.\n",
    "\n",
    "group2['linearized_likes'] = group2.likes - CTRcontrol_g1*group2.views"
   ]
  },
  {
   "cell_type": "code",
   "execution_count": 13,
   "id": "3c46e308-1be9-4b87-a849-e41e4b78ca80",
   "metadata": {},
   "outputs": [
    {
     "data": {
      "text/plain": [
       "Text(0, 0.5, '')"
      ]
     },
     "execution_count": 13,
     "metadata": {},
     "output_type": "execute_result"
    },
    {
     "data": {
      "image/png": "[encoded data removed]",
      "text/plain": [
       "<Figure size 640x480 with 1 Axes>"
      ]
     },
     "metadata": {},
     "output_type": "display_data"
    }
   ],
   "source": [
    "# Построим распределение линеаризованных лайков в группах 1 и 2.\n",
    "\n",
    "plt.figure(figsize=(8, 6), dpi=80)\n",
    "\n",
    "sns.histplot(group2.linearized_likes, color='purple')\n",
    "sns.histplot(group1.linearized_likes, color='green')\n",
    "plt.legend(labels=['test', 'control'])\n",
    "plt.title('Распределение линеаризованных лайков в группах 1 и 2')\n",
    "plt.xlabel('линеаризованные лайки')\n",
    "plt.ylabel('')\n"
   ]
  },
  {
   "cell_type": "code",
   "execution_count": 14,
   "id": "a42cd990-b4f5-4ba8-9d2c-f31274c5341d",
   "metadata": {},
   "outputs": [
    {
     "data": {
      "text/plain": [
       "Text(0, 0.5, '')"
      ]
     },
     "execution_count": 14,
     "metadata": {},
     "output_type": "execute_result"
    },
    {
     "data": {
      "image/png": "[encoded data removed]",
      "text/plain": [
       "<Figure size 842.4x595.44 with 1 Axes>"
      ]
     },
     "metadata": {},
     "output_type": "display_data"
    }
   ],
   "source": [
    "# Построим распределение CTR в группах 1 и 2.\n",
    "\n",
    "sns.histplot(group2.ctr, color='purple')\n",
    "sns.histplot(group1.ctr, color='green')\n",
    "plt.legend(labels=['test', 'control'])\n",
    "plt.title('Распределение CTR в группах 1 и 2')\n",
    "plt.xlabel('CTR')\n",
    "plt.ylabel('')\n"
   ]
  },
  {
   "cell_type": "code",
   "execution_count": 15,
   "id": "986fa969-0264-4726-a2d5-c84b34846b2d",
   "metadata": {},
   "outputs": [],
   "source": [
    "# Посчитаем метрику линеаризованных лайков в контрольной группе 0.\n",
    "\n",
    "group0['linearized_likes'] = group0.likes - CTRcontrol_g0*group0.views"
   ]
  },
  {
   "cell_type": "code",
   "execution_count": 16,
   "id": "c0382a07-a2ff-43a9-a898-18b2528f3e9d",
   "metadata": {},
   "outputs": [],
   "source": [
    "# Посчитаем метрику линеаризованных лайков в тестовой группе 3.\n",
    "\n",
    "group3['linearized_likes'] = group3.likes - CTRcontrol_g0*group3.views"
   ]
  },
  {
   "cell_type": "code",
   "execution_count": 18,
   "id": "c00ecade-3301-424e-839b-68a8736c007f",
   "metadata": {},
   "outputs": [
    {
     "data": {
      "text/plain": [
       "Text(0, 0.5, '')"
      ]
     },
     "execution_count": 18,
     "metadata": {},
     "output_type": "execute_result"
    },
    {
     "data": {
      "image/png": "[encoded data removed]",
      "text/plain": [
       "<Figure size 640x480 with 1 Axes>"
      ]
     },
     "metadata": {},
     "output_type": "display_data"
    }
   ],
   "source": [
    "# Построим распределение линеаризованных лайков в группах 0 и 3.\n",
    "\n",
    "sns.histplot(group3.linearized_likes, color='purple')\n",
    "sns.histplot(group0.linearized_likes, color='green')\n",
    "plt.legend(labels=['test', 'control'])\n",
    "plt.title('Распределение линеаризованных лайков в группах 0 и 3')\n",
    "plt.xlabel('линеаризованные лайки')\n",
    "plt.ylabel('')"
   ]
  },
  {
   "cell_type": "code",
   "execution_count": 19,
   "id": "297338d4-8e21-4ea4-9f82-992fb4483283",
   "metadata": {},
   "outputs": [
    {
     "data": {
      "text/plain": [
       "Text(0, 0.5, '')"
      ]
     },
     "execution_count": 19,
     "metadata": {},
     "output_type": "execute_result"
    },
    {
     "data": {
      "image/png": "[encoded data removed]",
      "text/plain": [
       "<Figure size 842.4x595.44 with 1 Axes>"
      ]
     },
     "metadata": {},
     "output_type": "display_data"
    }
   ],
   "source": [
    "# Построим распределение CTR в группах 0 и 3.\n",
    "\n",
    "sns.histplot(group3.ctr, color='purple')\n",
    "sns.histplot(group0.ctr, color='green')\n",
    "plt.legend(labels=['test', 'control'])\n",
    "plt.title('Распределение CTR в группах 0 и 3')\n",
    "plt.xlabel('CTR')\n",
    "plt.ylabel('')"
   ]
  },
  {
   "cell_type": "code",
   "execution_count": 20,
   "id": "4edf4e34-ad10-4287-bd34-9092ca53b369",
   "metadata": {
    "tags": []
   },
   "outputs": [
    {
     "name": "stdout",
     "output_type": "stream",
     "text": [
      "Полученное в результате проведения t-теста значение p-value = 9.439432187037644e-10\n"
     ]
    }
   ],
   "source": [
    "# Проведём сравнение линеаризованных лайков в группах 1 и 2 t-тестом.\n",
    "\n",
    "_, pval_t_ll = stats.ttest_ind(group1.linearized_likes,\n",
    "                group2.linearized_likes,\n",
    "                equal_var=False)\n",
    "\n",
    "print('Полученное в результате проведения t-теста значение p-value =', pval_t_ll)"
   ]
  },
  {
   "cell_type": "code",
   "execution_count": 21,
   "id": "00b73d95-252f-419b-bf5f-970d584856f8",
   "metadata": {
    "tags": []
   },
   "outputs": [
    {
     "name": "stdout",
     "output_type": "stream",
     "text": [
      "Полученное в результате проведения теста Манна-Уитни значение p-value = 9.404319579641738e-27\n"
     ]
    }
   ],
   "source": [
    "# Проведём сравнение линеаризованных лайков в группах 1 и 2 тестом Манна-Уитни.\n",
    "\n",
    "_, pval_u_ll = stats.mannwhitneyu(group1.linearized_likes,\n",
    "                group2.linearized_likes,\n",
    "                alternative='two-sided')\n",
    "\n",
    "print('Полученное в результате проведения теста Манна-Уитни значение p-value =', pval_u_ll)"
   ]
  },
  {
   "cell_type": "code",
   "execution_count": 22,
   "id": "f6c4a738-8b73-4987-80b4-d95648a9156c",
   "metadata": {},
   "outputs": [
    {
     "name": "stdout",
     "output_type": "stream",
     "text": [
      "Полученное в результате проведения t-теста значение p-value = 0.4738007466000528\n"
     ]
    }
   ],
   "source": [
    "# Проведём сравнение CTR в группах 1 и 2 t-тестом.\n",
    "\n",
    "_, pval_t_ctr = stats.ttest_ind(group1.ctr,\n",
    "                group2.ctr,\n",
    "                equal_var=False)\n",
    "\n",
    "print('Полученное в результате проведения t-теста значение p-value =', pval_t_ctr)"
   ]
  },
  {
   "cell_type": "code",
   "execution_count": 23,
   "id": "9177019a-aecd-4204-a4f8-8cca0e400f7d",
   "metadata": {},
   "outputs": [
    {
     "name": "stdout",
     "output_type": "stream",
     "text": [
      "Полученное в результате проведения теста Манна-Уитни значение p-value = 6.145564141609496e-56\n"
     ]
    }
   ],
   "source": [
    "# Проведём сравнение CTR в группах 1 и 2 тестом Манна-Уитни.\n",
    "\n",
    "_, pval_u_ctr = stats.mannwhitneyu(group1.ctr,\n",
    "                group2.ctr,\n",
    "                alternative='two-sided')\n",
    "\n",
    "print('Полученное в результате проведения теста Манна-Уитни значение p-value =', pval_u_ctr)"
   ]
  },
  {
   "cell_type": "markdown",
   "id": "d8ee8b9a-8f37-4f0d-bf4d-f4cbf4c280e3",
   "metadata": {
    "tags": []
   },
   "source": [
    "### На основании проведённых выше в группах 1 и 2 t-теста и теста Манна-Уитни для сравнения распределений линеаризованных лайков, а также распределений CTR, можно сделать вывод о том, что метод внедрения линеаризованных лайков вместо ratio-метрики CTR позволил верно отклонить нулевую гипотезу о равенстве расределений тестовой и контрольной групп (p-value оказалось очень близко к 0). Благодаря использованию этого метода удалось избежать ошибки 2 рода, в то время как сравнение CTR в случае с t-тестом выдаёт слишком большое значение p-value и происходит ошибка 2 рода. Тест Манна-Уитни же выдаёт корректный результат и при сравнении линеаризованных лайков, и при сравнении CTR. Подобный промах t-теста при сравнении CTR связан с тем, что в группах 1 и 2 распределения CTR не похожи друг на друга и распределение CTR в тестовой группе 2 не является близким к нормальному (имеет 2 пика, скошенность и выбросы). Поэтому лишь тест Манна-Уитни смог корректно отработать в обоих случаях, а t-тесту дал верный результат только при сравнении линеаризованных лайков."
   ]
  },
  {
   "cell_type": "code",
   "execution_count": 24,
   "id": "e328fde9-523b-4ace-b65f-3a55a0edc064",
   "metadata": {},
   "outputs": [
    {
     "name": "stdout",
     "output_type": "stream",
     "text": [
      "Полученное в результате проведения t-теста значение p-value = 5.4914249479690016e-52\n"
     ]
    }
   ],
   "source": [
    "# Проведём сравнение линеаризованных лайков в группах 0 и 3 t-тестом.\n",
    "\n",
    "_, pval_t_ll = stats.ttest_ind(group0.linearized_likes,\n",
    "                group3.linearized_likes,\n",
    "                equal_var=False)\n",
    "\n",
    "print('Полученное в результате проведения t-теста значение p-value =', pval_t_ll)"
   ]
  },
  {
   "cell_type": "code",
   "execution_count": 25,
   "id": "1a9fa12d-febe-4993-911d-3bc559fb3259",
   "metadata": {},
   "outputs": [
    {
     "name": "stdout",
     "output_type": "stream",
     "text": [
      "Полученное в результате проведения теста Манна-Уитни значение p-value = 1.1517315029786597e-63\n"
     ]
    }
   ],
   "source": [
    "# Проведём сравнение линеаризованных лайков в группах 0 и 3 тестом Манна-Уитни.\n",
    "\n",
    "_, pval_u_ll = stats.mannwhitneyu(group0.linearized_likes,\n",
    "                group3.linearized_likes,\n",
    "                alternative='two-sided')\n",
    "\n",
    "print('Полученное в результате проведения теста Манна-Уитни значение p-value =', pval_u_ll)"
   ]
  },
  {
   "cell_type": "code",
   "execution_count": 26,
   "id": "0a007e85-ac08-4441-b167-63478bb70072",
   "metadata": {},
   "outputs": [
    {
     "name": "stdout",
     "output_type": "stream",
     "text": [
      "Полученное в результате проведения t-теста значение p-value = 1.0406666136759498e-43\n"
     ]
    }
   ],
   "source": [
    "# Проведём сравнение CTR в группах 0 и 3 t-тестом.\n",
    "\n",
    "_, pval_t_ctr = stats.ttest_ind(group0.ctr,\n",
    "                group3.ctr,\n",
    "                equal_var=False)\n",
    "\n",
    "print('Полученное в результате проведения t-теста значение p-value =', pval_t_ctr)"
   ]
  },
  {
   "cell_type": "code",
   "execution_count": 27,
   "id": "6c5643da-f99f-46ad-b5f1-9a874351d031",
   "metadata": {},
   "outputs": [
    {
     "name": "stdout",
     "output_type": "stream",
     "text": [
      "Полученное в результате проведения теста Манна-Уитни значение p-value = 1.1877150321853489e-57\n"
     ]
    }
   ],
   "source": [
    "# Проведём сравнение CTR в группах 0 и 3 тестом Манна-Уитни.\n",
    "\n",
    "_, pval_u_ctr = stats.mannwhitneyu(group0.ctr,\n",
    "                group3.ctr,\n",
    "                alternative='two-sided')\n",
    "\n",
    "print('Полученное в результате проведения теста Манна-Уитни значение p-value =', pval_u_ctr)"
   ]
  },
  {
   "cell_type": "markdown",
   "id": "99b33df3-58b3-4c3a-8ac2-e76b7447d5c8",
   "metadata": {},
   "source": [
    "### На основании проведённых выше в группах 0 и 3 t-теста и теста Манна-Уитни для сравнения распределений линеаризованных лайков, а также распределений CTR, можно сделать вывод о том, что метод внедрения линеаризованных лайков вместо ratio-метрики CTR не отразился на интерпертации результатов (p-value оказалось очень близко к 0 и при сравнении линеаризованных лайков, и при сравнении CTR). Это связано с тем, что в группах 0 и 3 распределения CTR были похожи друг на друга и близки к нормальным, в отличие от того, что было в группах 1 и 2. В результате мы в обоих случаях верно отклонили нулевую гипотезу о равенстве расределений тестовой и контрольной групп."
   ]
  },
  {
   "cell_type": "code",
   "execution_count": 28,
   "id": "95d3a91c-689c-4a85-bcb8-e22d782bf660",
   "metadata": {},
   "outputs": [
    {
     "name": "stdout",
     "output_type": "stream",
     "text": [
      "Среднее значение линеаризованных лайков в контрольной группе 1 больше, чем в тестовой группе 2 на 0.65927712364852\n"
     ]
    }
   ],
   "source": [
    "# Сравним средние значения линеаризованных лайков в группах 1 и 2, чтобы определить направление изменения тестовой группы\n",
    "# по сравнению с контрольной.\n",
    "\n",
    "avg_linearized_likes_group1 = group1.linearized_likes.mean()\n",
    "avg_linearized_likes_group2 = group2.linearized_likes.mean()\n",
    "if avg_linearized_likes_group2 > avg_linearized_likes_group1:\n",
    "    print('Среднее значение линеаризованных лайков в тестовой группе 2 больше, чем в контрольной группе 1 на',\n",
    "          avg_linearized_likes_group2 - avg_linearized_likes_group1)\n",
    "else:\n",
    "    print('Среднее значение линеаризованных лайков в контрольной группе 1 больше, чем в тестовой группе 2 на',\n",
    "          avg_linearized_likes_group1 - avg_linearized_likes_group2)"
   ]
  },
  {
   "cell_type": "code",
   "execution_count": 29,
   "id": "688e0615-9473-4aa1-bc84-0aeb05aa3085",
   "metadata": {},
   "outputs": [
    {
     "name": "stdout",
     "output_type": "stream",
     "text": [
      "Среднее значение линеаризованных лайков в тестовой группе 3 больше, чем в контрольной группе 0 на 1.071333748065902\n"
     ]
    }
   ],
   "source": [
    "# Сравним средние значения линеаризованных лайков в группах 0 и 3, чтобы определить направление изменения тестовой группы\n",
    "# по сравнению с контрольной.\n",
    "\n",
    "avg_linearized_likes_group0 = group0.linearized_likes.mean()\n",
    "avg_linearized_likes_group3 = group3.linearized_likes.mean()\n",
    "if avg_linearized_likes_group3 > avg_linearized_likes_group0:\n",
    "    print('Среднее значение линеаризованных лайков в тестовой группе 3 больше, чем в контрольной группе 0 на',\n",
    "          avg_linearized_likes_group3 - avg_linearized_likes_group0)\n",
    "else:\n",
    "    print('Среднее значение линеаризованных лайков в контрольной группе 0 больше, чем в тестовой группе 3 на',\n",
    "          avg_linearized_likes_group0 - avg_linearized_likes_group3)"
   ]
  },
  {
   "cell_type": "markdown",
   "id": "60be23d5-86aa-41b5-b5ea-411c592822f3",
   "metadata": {
    "jp-MarkdownHeadingCollapsed": true,
    "tags": []
   },
   "source": [
    "### На основании проведенных тестов можно сделать вывод о том, что подсчёт линеаризованных лайков вместо CTR при сравнении групп 1 и 2 уменьшил значение p-value для t-теста, позволив корректно отвергнуть нулевую гипотезу. В случае подсчёта линеаризованных лайков вместо CTR при сравнении групп 0 и 3 значение p-value для t-теста не изменилось, поскольку оно уже было достаточно маленьким (близко к 0), чтобы корректно отвергнуть нулевую гипотезу. В случае с тестом Манна-Уитни значение p-value значимо не изменилось как при сравнении групп 1 и 2, так и при сравнении групп 0 и 3, поскольку оно уже было достаточно маленьким (близко к 0)."
   ]
  }
 ],
 "metadata": {
  "kernelspec": {
   "display_name": "Python 3 (ipykernel)",
   "language": "python",
   "name": "python3"
  },
  "language_info": {
   "codemirror_mode": {
    "name": "ipython",
    "version": 3
   },
   "file_extension": ".py",
   "mimetype": "text/x-python",
   "name": "python",
   "nbconvert_exporter": "python",
   "pygments_lexer": "ipython3",
   "version": "3.8.10"
  }
 },
 "nbformat": 4,
 "nbformat_minor": 5
}
