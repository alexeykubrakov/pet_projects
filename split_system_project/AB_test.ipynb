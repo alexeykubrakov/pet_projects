{
 "cells": [
  {
   "cell_type": "code",
   "execution_count": 1,
   "id": "de09e385-7171-4b9a-a840-5a3340ca0038",
   "metadata": {},
   "outputs": [],
   "source": [
    "import numpy as np\n",
    "import pandas as pd\n",
    "import scipy.stats as stats\n",
    "import matplotlib.pyplot as plt\n",
    "import seaborn as sns\n",
    "\n",
    "%matplotlib inline"
   ]
  },
  {
   "cell_type": "markdown",
   "id": "2dcd4814-1f27-4fc0-98c0-41dbe760e441",
   "metadata": {},
   "source": [
    "## __Задание:__\n",
    "## Проанализировать результаты эксперимента, который мы провели вместе с командой дата сайентистов. Эксперимент проходил с 02.12.2022 по 08.12.2022 включительно. Для эксперимента были задействованы 2 и 1 группы. Основная гипотеза заключается в том, что новый алгоритм во 2-й группе приведет к увеличению CTR. Необходимо проанализировать данные А/Б-теста."
   ]
  },
  {
   "cell_type": "code",
   "execution_count": 2,
   "id": "dbfffdc8-7e02-4967-a6f5-dc09d5a700a0",
   "metadata": {},
   "outputs": [
    {
     "data": {
      "text/html": [
       "<div>\n",
       "<style scoped>\n",
       "    .dataframe tbody tr th:only-of-type {\n",
       "        vertical-align: middle;\n",
       "    }\n",
       "\n",
       "    .dataframe tbody tr th {\n",
       "        vertical-align: top;\n",
       "    }\n",
       "\n",
       "    .dataframe thead th {\n",
       "        text-align: right;\n",
       "    }\n",
       "</style>\n",
       "<table border=\"1\" class=\"dataframe\">\n",
       "  <thead>\n",
       "    <tr style=\"text-align: right;\">\n",
       "      <th></th>\n",
       "      <th>exp_group</th>\n",
       "      <th>user_id</th>\n",
       "      <th>likes</th>\n",
       "      <th>views</th>\n",
       "    </tr>\n",
       "  </thead>\n",
       "  <tbody>\n",
       "    <tr>\n",
       "      <th>0</th>\n",
       "      <td>1</td>\n",
       "      <td>109963</td>\n",
       "      <td>3</td>\n",
       "      <td>15</td>\n",
       "    </tr>\n",
       "    <tr>\n",
       "      <th>1</th>\n",
       "      <td>1</td>\n",
       "      <td>26117</td>\n",
       "      <td>32</td>\n",
       "      <td>141</td>\n",
       "    </tr>\n",
       "    <tr>\n",
       "      <th>2</th>\n",
       "      <td>1</td>\n",
       "      <td>138232</td>\n",
       "      <td>18</td>\n",
       "      <td>73</td>\n",
       "    </tr>\n",
       "    <tr>\n",
       "      <th>3</th>\n",
       "      <td>1</td>\n",
       "      <td>26295</td>\n",
       "      <td>33</td>\n",
       "      <td>122</td>\n",
       "    </tr>\n",
       "    <tr>\n",
       "      <th>4</th>\n",
       "      <td>1</td>\n",
       "      <td>18392</td>\n",
       "      <td>7</td>\n",
       "      <td>32</td>\n",
       "    </tr>\n",
       "  </tbody>\n",
       "</table>\n",
       "</div>"
      ],
      "text/plain": [
       "   exp_group  user_id  likes  views\n",
       "0          1   109963      3     15\n",
       "1          1    26117     32    141\n",
       "2          1   138232     18     73\n",
       "3          1    26295     33    122\n",
       "4          1    18392      7     32"
      ]
     },
     "execution_count": 2,
     "metadata": {},
     "output_type": "execute_result"
    }
   ],
   "source": [
    "dir_path = '~/data_files/'\n",
    "df = pd.read_csv(dir_path + 'ab_test_data.zip', compression='zip')\n",
    "\n",
    "df.head()"
   ]
  },
  {
   "cell_type": "code",
   "execution_count": 3,
   "id": "79ca98d7-27b6-4ca0-951d-444a9549a261",
   "metadata": {},
   "outputs": [
    {
     "data": {
      "text/html": [
       "<div>\n",
       "<style scoped>\n",
       "    .dataframe tbody tr th:only-of-type {\n",
       "        vertical-align: middle;\n",
       "    }\n",
       "\n",
       "    .dataframe tbody tr th {\n",
       "        vertical-align: top;\n",
       "    }\n",
       "\n",
       "    .dataframe thead th {\n",
       "        text-align: right;\n",
       "    }\n",
       "</style>\n",
       "<table border=\"1\" class=\"dataframe\">\n",
       "  <thead>\n",
       "    <tr style=\"text-align: right;\">\n",
       "      <th></th>\n",
       "      <th>exp_group</th>\n",
       "      <th>user_id</th>\n",
       "      <th>likes</th>\n",
       "      <th>views</th>\n",
       "      <th>ctr</th>\n",
       "    </tr>\n",
       "  </thead>\n",
       "  <tbody>\n",
       "    <tr>\n",
       "      <th>0</th>\n",
       "      <td>1</td>\n",
       "      <td>109963</td>\n",
       "      <td>3</td>\n",
       "      <td>15</td>\n",
       "      <td>0.200</td>\n",
       "    </tr>\n",
       "    <tr>\n",
       "      <th>1</th>\n",
       "      <td>1</td>\n",
       "      <td>26117</td>\n",
       "      <td>32</td>\n",
       "      <td>141</td>\n",
       "      <td>0.227</td>\n",
       "    </tr>\n",
       "    <tr>\n",
       "      <th>2</th>\n",
       "      <td>1</td>\n",
       "      <td>138232</td>\n",
       "      <td>18</td>\n",
       "      <td>73</td>\n",
       "      <td>0.247</td>\n",
       "    </tr>\n",
       "    <tr>\n",
       "      <th>3</th>\n",
       "      <td>1</td>\n",
       "      <td>26295</td>\n",
       "      <td>33</td>\n",
       "      <td>122</td>\n",
       "      <td>0.270</td>\n",
       "    </tr>\n",
       "    <tr>\n",
       "      <th>4</th>\n",
       "      <td>1</td>\n",
       "      <td>18392</td>\n",
       "      <td>7</td>\n",
       "      <td>32</td>\n",
       "      <td>0.219</td>\n",
       "    </tr>\n",
       "  </tbody>\n",
       "</table>\n",
       "</div>"
      ],
      "text/plain": [
       "   exp_group  user_id  likes  views    ctr\n",
       "0          1   109963      3     15  0.200\n",
       "1          1    26117     32    141  0.227\n",
       "2          1   138232     18     73  0.247\n",
       "3          1    26295     33    122  0.270\n",
       "4          1    18392      7     32  0.219"
      ]
     },
     "execution_count": 3,
     "metadata": {},
     "output_type": "execute_result"
    }
   ],
   "source": [
    "# Рассчитываем значение CTR.\n",
    "\n",
    "df['ctr'] = round(df.likes / df.views, 3)\n",
    "df.head()"
   ]
  },
  {
   "cell_type": "code",
   "execution_count": 4,
   "id": "78353816-c929-4655-9184-fd9691194522",
   "metadata": {},
   "outputs": [
    {
     "data": {
      "text/html": [
       "<div>\n",
       "<style scoped>\n",
       "    .dataframe tbody tr th:only-of-type {\n",
       "        vertical-align: middle;\n",
       "    }\n",
       "\n",
       "    .dataframe tbody tr th {\n",
       "        vertical-align: top;\n",
       "    }\n",
       "\n",
       "    .dataframe thead th {\n",
       "        text-align: right;\n",
       "    }\n",
       "</style>\n",
       "<table border=\"1\" class=\"dataframe\">\n",
       "  <thead>\n",
       "    <tr style=\"text-align: right;\">\n",
       "      <th></th>\n",
       "      <th>user_id</th>\n",
       "      <th>ctr</th>\n",
       "    </tr>\n",
       "    <tr>\n",
       "      <th>exp_group</th>\n",
       "      <th></th>\n",
       "      <th></th>\n",
       "    </tr>\n",
       "  </thead>\n",
       "  <tbody>\n",
       "    <tr>\n",
       "      <th>1</th>\n",
       "      <td>10079</td>\n",
       "      <td>0.215604</td>\n",
       "    </tr>\n",
       "    <tr>\n",
       "      <th>2</th>\n",
       "      <td>9952</td>\n",
       "      <td>0.214407</td>\n",
       "    </tr>\n",
       "  </tbody>\n",
       "</table>\n",
       "</div>"
      ],
      "text/plain": [
       "           user_id       ctr\n",
       "exp_group                   \n",
       "1            10079  0.215604\n",
       "2             9952  0.214407"
      ]
     },
     "execution_count": 4,
     "metadata": {},
     "output_type": "execute_result"
    }
   ],
   "source": [
    "# Взглянем на CTR и количество пользователей в группах 1 и 2.\n",
    "\n",
    "df.groupby('exp_group').agg({'user_id':'count','ctr':'mean'})"
   ]
  },
  {
   "cell_type": "code",
   "execution_count": 5,
   "id": "a7e7fe7c-fdd2-4932-b8e2-c390ac99663d",
   "metadata": {},
   "outputs": [],
   "source": [
    "# Сделаем графики в seaborn покрупнее.\n",
    "\n",
    "sns.set(rc={'figure.figsize':(11.7,8.27)})"
   ]
  },
  {
   "cell_type": "code",
   "execution_count": 6,
   "id": "14b7171d-ead4-4ece-bb26-0cb28630b2c1",
   "metadata": {},
   "outputs": [
    {
     "data": {
      "text/plain": [
       "[Text(0.5, 0, 'CTR'), Text(0, 0.5, '')]"
      ]
     },
     "execution_count": 6,
     "metadata": {},
     "output_type": "execute_result"
    },
    {
     "data": {
      "image/png": "[encoded data removed]",
      "text/plain": [
       "<Figure size 842.4x595.44 with 1 Axes>"
      ]
     },
     "metadata": {},
     "output_type": "display_data"
    }
   ],
   "source": [
    "# Нарисуем распределения CTR в группах 1 и 2, чтобы ознакомиться с их формой и визуально оценить,\n",
    "# насколько метрики в этих группах похожи.\n",
    "\n",
    "groups = sns.histplot(data = df, \n",
    "              x='ctr', \n",
    "              hue='exp_group', \n",
    "              palette = ['r', 'b'],\n",
    "              alpha=0.5,\n",
    "              kde=False)\n",
    "groups.set(xlabel='CTR', ylabel='')"
   ]
  },
  {
   "cell_type": "markdown",
   "id": "211a2bbc-c8c0-444a-ac0b-cda5eb133771",
   "metadata": {},
   "source": [
    "## Как видно на получившемся графике распределения CTR в группах 1 и 2 заметно отличаются. В контрольной группе распределение близко к нормальному, однако в тестовой группе оно совсем ненормально, поскольку имеет 2 пика, скошено влево и имеет выбросы справа."
   ]
  },
  {
   "cell_type": "code",
   "execution_count": 7,
   "id": "a79b1e8f-6762-4f4a-b62b-171ee51c57fd",
   "metadata": {},
   "outputs": [],
   "source": [
    "group1 = df[df.exp_group == 1].copy()\n",
    "group2 = df[df.exp_group == 2].copy()"
   ]
  },
  {
   "cell_type": "code",
   "execution_count": 8,
   "id": "18cbc7cf-efd7-4753-a220-b29dd20779bb",
   "metadata": {},
   "outputs": [
    {
     "name": "stdout",
     "output_type": "stream",
     "text": [
      "Полученное в результате проведения t-теста значение p-value = 0.4738007466000528\n"
     ]
    }
   ],
   "source": [
    "# Проведём сравнение обеих групп t-тестом.\n",
    "\n",
    "_, pval_t = stats.ttest_ind(group1.ctr,\n",
    "                group2.ctr,\n",
    "                equal_var=False)\n",
    "\n",
    "print('Полученное в результате проведения t-теста значение p-value =', pval_t)"
   ]
  },
  {
   "cell_type": "markdown",
   "id": "d8ee8b9a-8f37-4f0d-bf4d-f4cbf4c280e3",
   "metadata": {},
   "source": [
    "## Поскольку значение p-value оказалось значительно больше 0.05, то по результатам проведения t-теста мы не сможем отклонить нулевую гипотезу о равенстве расределений тестовой и контрольной групп. Однако визуально на графике выше мы уже убедились в существенных отличиях распределения CTR в этих двух группах. Поэтому с t-тестом мы совершаем ошибку 2 рода. Это связано с равенством средних значений CTR тестовой и контрольной групп (они выводились выше, при подключении к БД), что заставляет t-тест ошибочно считать эти распределения похожими."
   ]
  },
  {
   "cell_type": "code",
   "execution_count": 9,
   "id": "1a9fa12d-febe-4993-911d-3bc559fb3259",
   "metadata": {},
   "outputs": [
    {
     "name": "stdout",
     "output_type": "stream",
     "text": [
      "Полученное в результате проведения теста Манна-Уитни значение p-value = 6.145564141609496e-56\n"
     ]
    }
   ],
   "source": [
    "# Проведём сравнение обеих групп тестом Манна-Уитни.\n",
    "\n",
    "_, pval_u = stats.mannwhitneyu(group1.ctr,\n",
    "                group2.ctr,\n",
    "                alternative='two-sided')\n",
    "\n",
    "print('Полученное в результате проведения теста Манна-Уитни значение p-value =', pval_u)"
   ]
  },
  {
   "cell_type": "markdown",
   "id": "99b33df3-58b3-4c3a-8ac2-e76b7447d5c8",
   "metadata": {},
   "source": [
    "## Поскольку значение p-value оказалось практически равно 0 (и существенно меньше порога в 0.05), то по результатам проведения теста Манна-Уитни мы сможем верно отклонить нулевую гипотезу о равенстве расределений тестовой и контрольной групп. Причина, по которой тест Манна-Уитни не совершаем ошибку 2 рода по сравнению с t-тестом, заключается в том, что средние значения CTR тестовой и контрольной групп не влияют на расчёт p-value в данном тесте. Тест Манна-Уитни сравнивает ранги (определяет, достаточно ли мала зона перекрещивающихся значений между двумя рядами) и не слишком привязан к типу распределения рассматриваемых метрик."
   ]
  },
  {
   "cell_type": "code",
   "execution_count": 10,
   "id": "c78b78a6-12aa-4870-846d-343a80fb6127",
   "metadata": {},
   "outputs": [],
   "source": [
    "def get_smothed_ctr(user_likes, user_views, global_ctr, alpha):\n",
    "    smothed_ctr = (user_likes + alpha * global_ctr) / (user_views + alpha)\n",
    "    return smothed_ctr"
   ]
  },
  {
   "cell_type": "code",
   "execution_count": 11,
   "id": "e6302f22-588a-4e5e-bc17-2f14a0d78209",
   "metadata": {},
   "outputs": [],
   "source": [
    "# Посчитаем глобальный CTR\n",
    "\n",
    "global_ctr_1 = group1.likes.sum() / group1.views.sum()\n",
    "global_ctr_2 = group2.likes.sum() / group2.views.sum()"
   ]
  },
  {
   "cell_type": "code",
   "execution_count": 12,
   "id": "b64e9b9f-d167-4d53-826c-320fdc98ac23",
   "metadata": {},
   "outputs": [
    {
     "data": {
      "text/plain": [
       "[Text(0.5, 0, 'сглаженный CTR'), Text(0, 0.5, '')]"
      ]
     },
     "execution_count": 12,
     "metadata": {},
     "output_type": "execute_result"
    },
    {
     "data": {
      "image/png": "[encoded data removed]",
      "text/plain": [
       "<Figure size 842.4x595.44 with 1 Axes>"
      ]
     },
     "metadata": {},
     "output_type": "display_data"
    }
   ],
   "source": [
    "# Посчитаем сглаженный CTR для контрольной группы с гиперпараметром α=5 и отобразим распределение полученной величины.\n",
    "\n",
    "group1['smothed_ctr'] = group1.apply(\n",
    "    lambda x: get_smothed_ctr(x['likes'], x['views'], global_ctr_1, 5), axis=1)\n",
    "\n",
    "plot1 = sns.histplot(group1.smothed_ctr, \n",
    "             kde = False)\n",
    "plot1.set(xlabel='сглаженный CTR', ylabel='')"
   ]
  },
  {
   "cell_type": "code",
   "execution_count": 13,
   "id": "149712f1-e59e-4ff5-ae65-957276354ef3",
   "metadata": {},
   "outputs": [
    {
     "data": {
      "text/plain": [
       "[Text(0.5, 0, 'сглаженный CTR'), Text(0, 0.5, '')]"
      ]
     },
     "execution_count": 13,
     "metadata": {},
     "output_type": "execute_result"
    },
    {
     "data": {
      "image/png": "[encoded data removed]",
      "text/plain": [
       "<Figure size 842.4x595.44 with 1 Axes>"
      ]
     },
     "metadata": {},
     "output_type": "display_data"
    }
   ],
   "source": [
    "# Посчитаем сглаженный CTR для тестовой группы с гиперпараметром α=5 и отобразим распределение полученной величины.\n",
    "\n",
    "group2['smothed_ctr'] = group2.apply(\n",
    "    lambda x: get_smothed_ctr(x['likes'], x['views'], global_ctr_2, 5), axis=1)\n",
    "\n",
    "\n",
    "plot2 = sns.histplot(group2.smothed_ctr, \n",
    "             kde = False)\n",
    "plot2.set(xlabel='сглаженный CTR', ylabel='')"
   ]
  },
  {
   "cell_type": "markdown",
   "id": "c855e566-697f-4a45-9553-74c88c4dac07",
   "metadata": {},
   "source": [
    "## Теперь проведём сравнение сглаженных CTR обеих групп t-тестом."
   ]
  },
  {
   "cell_type": "code",
   "execution_count": 14,
   "id": "06dc1a0c-68a3-496b-bb91-68d9c4dbdb42",
   "metadata": {
    "tags": []
   },
   "outputs": [
    {
     "name": "stdout",
     "output_type": "stream",
     "text": [
      "Полученное в результате проведения t-теста значение p-value = 0.0223769815558559\n"
     ]
    }
   ],
   "source": [
    "_, pval_t = stats.ttest_ind(group1.smothed_ctr,\n",
    "                group2.smothed_ctr,\n",
    "                equal_var=False)\n",
    "\n",
    "print('Полученное в результате проведения t-теста значение p-value =', pval_t)"
   ]
  },
  {
   "cell_type": "code",
   "execution_count": 15,
   "id": "c724788f-0c2b-46be-9a0f-8e9c0caec31a",
   "metadata": {},
   "outputs": [
    {
     "name": "stdout",
     "output_type": "stream",
     "text": [
      "Среднее значение сглаженного CTR контрольной группы = 0.21402549608884142\n",
      "Среднее значение сглаженного CTR тестовой группы = 0.21073955503259234\n"
     ]
    }
   ],
   "source": [
    "print('Среднее значение сглаженного CTR контрольной группы =', group1.smothed_ctr.mean())\n",
    "print('Среднее значение сглаженного CTR тестовой группы =', group2.smothed_ctr.mean())"
   ]
  },
  {
   "cell_type": "markdown",
   "id": "539cefc4-b6fc-4864-add1-a95db6768ca1",
   "metadata": {},
   "source": [
    "## На этот раз значение p-value оказалось меньше порога в 0.05, поэтому по результатам проведения t-теста на расределениях сглаженных CTR тестовой и контрольной групп мы сможем верно отклонить нулевую гипотезу о равенстве этих групп. Причина, по которой на сглаженных значениях CTR t-тест сработал корректно, заключается в том, что сглаживание позволило избавиться от шума (пользователи с небольшим количеством просмотров). Однако проблема сглаженного CTR состоит в том, что нет гарантии, что его направленность совпадает с направленностью общего количества кликов."
   ]
  },
  {
   "cell_type": "code",
   "execution_count": 16,
   "id": "09a52928-8da7-4d2b-8771-391bbac2de23",
   "metadata": {},
   "outputs": [],
   "source": [
    "def poisson_bootstrap(likes1, views1, likes2, views2, iterations=1000):\n",
    "    poisson_bootstraps1 = stats.poisson(1).rvs(\n",
    "        (iterations, len(likes1))).astype(np.int64)\n",
    "    poisson_bootstraps2 = stats.poisson(1).rvs(\n",
    "            (iterations, len(likes2))).astype(np.int64)\n",
    "    globalCTR1 = (poisson_bootstraps1*likes1).sum(axis=1) / (poisson_bootstraps1*views1).sum(axis=1)    \n",
    "    globalCTR2 = (poisson_bootstraps2*likes2).sum(axis=1) / (poisson_bootstraps2*views2).sum(axis=1)\n",
    "    return globalCTR1, globalCTR2"
   ]
  },
  {
   "cell_type": "markdown",
   "id": "5d52715a-9d14-40e0-a492-ee32905a077c",
   "metadata": {},
   "source": [
    "## Проведем пуассоновский бутстрап для общегруппового CTR в обеих группах (2000 подвыборок для каждой группы) и отобразим полученные распределения величины для каждой из групп."
   ]
  },
  {
   "cell_type": "code",
   "execution_count": 17,
   "id": "ac2c429b-3e1e-41cc-84cf-b06b137d8dc5",
   "metadata": {},
   "outputs": [],
   "source": [
    "likes1 = group1.likes.to_numpy()\n",
    "views1 = group1.views.to_numpy()\n",
    "likes2 = group2.likes.to_numpy()\n",
    "views2 = group2.views.to_numpy()\n",
    "\n",
    "ctr1, ctr2 = poisson_bootstrap(likes1, views1, likes2, views2, iterations=2000)"
   ]
  },
  {
   "cell_type": "code",
   "execution_count": 19,
   "id": "2e7d0a09-045b-4a58-a25c-16b02a1cd463",
   "metadata": {},
   "outputs": [
    {
     "data": {
      "text/plain": [
       "Text(0.5, 0, 'CTR')"
      ]
     },
     "execution_count": 19,
     "metadata": {},
     "output_type": "execute_result"
    },
    {
     "data": {
      "image/png": "[encoded data removed]",
      "text/plain": [
       "<Figure size 842.4x595.44 with 1 Axes>"
      ]
     },
     "metadata": {},
     "output_type": "display_data"
    }
   ],
   "source": [
    "sns.histplot(ctr1, color='red')\n",
    "sns.histplot(ctr2, color='purple')\n",
    "plt.legend(labels=['control', 'test'])\n",
    "plt.ylabel('')\n",
    "plt.xlabel('CTR')"
   ]
  },
  {
   "cell_type": "markdown",
   "id": "51bb1d12-4141-41bd-9f62-7a245a0914a8",
   "metadata": {},
   "source": [
    "## По результатам построенного графика распределений, полученных пуассоновским бутстрапом CTR для обеих групп, можно видеть, что распределения не пересекаются, поэтому нулевая гипотеза может быть отвергнута. Также мы наблюдаем снижение значения CTR в тестовой группе, по сравнению с контрольной группой. Это означает, что обновление скорее всего выкатывать не стоит, чтобы не ухудшить показатели метрики CTR. Пока отложим принятие решения и прогоним наши данные через t-тест и тест Манна-Уитни для того, чтобы убедиться в правильности нашей визуальной интерпритации, а также проведём бакетное преобразование и прогоним t-тест и тест Манна-Уитни для преобразованных данных."
   ]
  },
  {
   "cell_type": "code",
   "execution_count": 20,
   "id": "8a4aa527-5240-4122-b3dd-92ff39380685",
   "metadata": {},
   "outputs": [
    {
     "name": "stdout",
     "output_type": "stream",
     "text": [
      "Полученное в результате проведения t-теста значение p-value = 0.0\n"
     ]
    }
   ],
   "source": [
    "# Проведём сравнение полученных пуассоновским бутстрапом CTR для обеих групп t-тестом.\n",
    "\n",
    "_, pval_t = stats.ttest_ind(ctr1, ctr2, equal_var=False)\n",
    "\n",
    "print('Полученное в результате проведения t-теста значение p-value =', pval_t)"
   ]
  },
  {
   "cell_type": "code",
   "execution_count": 21,
   "id": "7a6ab598-69e3-4e62-8709-e9f183670776",
   "metadata": {},
   "outputs": [
    {
     "name": "stdout",
     "output_type": "stream",
     "text": [
      "Полученное в результате проведения теста Манна-Уитни значение p-value = 0.0\n"
     ]
    }
   ],
   "source": [
    "# Проведём сравнение полученных пуассоновским бутстрапом CTR для обеих групп тестом Манна-Уитни.\n",
    "\n",
    "_, pval_u = stats.mannwhitneyu(ctr1, ctr2, alternative='two-sided')\n",
    "\n",
    "print('Полученное в результате проведения теста Манна-Уитни значение p-value =', pval_u)"
   ]
  },
  {
   "cell_type": "markdown",
   "id": "d9feece5-3d49-43b6-8eae-9486262bd941",
   "metadata": {},
   "source": [
    "## После проведения t-теста и теста Манна-Уитни на полученных пуассоновским бутстрапом значениях CTR для пользовательских групп 1 и 2 можно уверенно сказать, что предположение о неравенстве распределений подтвердилось, также как подтвердилось и снижение значения CTR в тестовой группе, по сравнению с контрольной группой."
   ]
  },
  {
   "cell_type": "code",
   "execution_count": 25,
   "id": "b9f28bf8-cb24-41b6-b3ec-a113bb9f8b86",
   "metadata": {},
   "outputs": [
    {
     "data": {
      "text/html": [
       "<div>\n",
       "<style scoped>\n",
       "    .dataframe tbody tr th:only-of-type {\n",
       "        vertical-align: middle;\n",
       "    }\n",
       "\n",
       "    .dataframe tbody tr th {\n",
       "        vertical-align: top;\n",
       "    }\n",
       "\n",
       "    .dataframe thead th {\n",
       "        text-align: right;\n",
       "    }\n",
       "</style>\n",
       "<table border=\"1\" class=\"dataframe\">\n",
       "  <thead>\n",
       "    <tr style=\"text-align: right;\">\n",
       "      <th></th>\n",
       "      <th>exp_group</th>\n",
       "      <th>bucket</th>\n",
       "      <th>likes</th>\n",
       "      <th>views</th>\n",
       "      <th>bucket_ctr</th>\n",
       "    </tr>\n",
       "  </thead>\n",
       "  <tbody>\n",
       "    <tr>\n",
       "      <th>0</th>\n",
       "      <td>1</td>\n",
       "      <td>1</td>\n",
       "      <td>2729</td>\n",
       "      <td>13821</td>\n",
       "      <td>0.197</td>\n",
       "    </tr>\n",
       "    <tr>\n",
       "      <th>1</th>\n",
       "      <td>1</td>\n",
       "      <td>2</td>\n",
       "      <td>2675</td>\n",
       "      <td>12466</td>\n",
       "      <td>0.215</td>\n",
       "    </tr>\n",
       "    <tr>\n",
       "      <th>2</th>\n",
       "      <td>1</td>\n",
       "      <td>3</td>\n",
       "      <td>3275</td>\n",
       "      <td>15138</td>\n",
       "      <td>0.216</td>\n",
       "    </tr>\n",
       "    <tr>\n",
       "      <th>3</th>\n",
       "      <td>1</td>\n",
       "      <td>4</td>\n",
       "      <td>2844</td>\n",
       "      <td>13897</td>\n",
       "      <td>0.205</td>\n",
       "    </tr>\n",
       "    <tr>\n",
       "      <th>4</th>\n",
       "      <td>1</td>\n",
       "      <td>5</td>\n",
       "      <td>2453</td>\n",
       "      <td>11661</td>\n",
       "      <td>0.210</td>\n",
       "    </tr>\n",
       "  </tbody>\n",
       "</table>\n",
       "</div>"
      ],
      "text/plain": [
       "   exp_group  bucket  likes  views  bucket_ctr\n",
       "0          1       1   2729  13821       0.197\n",
       "1          1       2   2675  12466       0.215\n",
       "2          1       3   3275  15138       0.216\n",
       "3          1       4   2844  13897       0.205\n",
       "4          1       5   2453  11661       0.210"
      ]
     },
     "execution_count": 25,
     "metadata": {},
     "output_type": "execute_result"
    }
   ],
   "source": [
    "# Разделим на бакеты тестовую и контрольную группы, после чего проведём последние два теста (t-тест и тест Манна-Уитни)\n",
    "# на значениях CTR, посчитанных для групп (бакетов) пользователей.\n",
    "\n",
    "n_bins = 50\n",
    "\n",
    "df_with_buckets = df.copy()\n",
    "df_with_buckets['bucket'] = df_with_buckets.user_id.apply(lambda x: (hash(x) % n_bins) + 1)\n",
    "df_with_buckets = df_with_buckets.groupby(['exp_group', 'bucket'], as_index=False).agg({'likes':'sum','views':'sum'})\n",
    "df_with_buckets['bucket_ctr'] = round(df_with_buckets.likes / df_with_buckets.views, 3)\n",
    "\n",
    "df_with_buckets.head()"
   ]
  },
  {
   "cell_type": "code",
   "execution_count": 26,
   "id": "ea4c3d3c-f7a9-461f-b04d-efd9fb20fbfa",
   "metadata": {},
   "outputs": [
    {
     "data": {
      "text/html": [
       "<div>\n",
       "<style scoped>\n",
       "    .dataframe tbody tr th:only-of-type {\n",
       "        vertical-align: middle;\n",
       "    }\n",
       "\n",
       "    .dataframe tbody tr th {\n",
       "        vertical-align: top;\n",
       "    }\n",
       "\n",
       "    .dataframe thead th {\n",
       "        text-align: right;\n",
       "    }\n",
       "</style>\n",
       "<table border=\"1\" class=\"dataframe\">\n",
       "  <thead>\n",
       "    <tr style=\"text-align: right;\">\n",
       "      <th></th>\n",
       "      <th>bucket</th>\n",
       "      <th>avg_bucket_ctr</th>\n",
       "    </tr>\n",
       "    <tr>\n",
       "      <th>exp_group</th>\n",
       "      <th></th>\n",
       "      <th></th>\n",
       "    </tr>\n",
       "  </thead>\n",
       "  <tbody>\n",
       "    <tr>\n",
       "      <th>1</th>\n",
       "      <td>50</td>\n",
       "      <td>0.20810</td>\n",
       "    </tr>\n",
       "    <tr>\n",
       "      <th>2</th>\n",
       "      <td>50</td>\n",
       "      <td>0.19808</td>\n",
       "    </tr>\n",
       "  </tbody>\n",
       "</table>\n",
       "</div>"
      ],
      "text/plain": [
       "           bucket  avg_bucket_ctr\n",
       "exp_group                        \n",
       "1              50         0.20810\n",
       "2              50         0.19808"
      ]
     },
     "execution_count": 26,
     "metadata": {},
     "output_type": "execute_result"
    }
   ],
   "source": [
    "df_with_buckets.groupby('exp_group').agg({'bucket':'nunique','bucket_ctr':'mean'}).rename(columns={'bucket_ctr': 'avg_bucket_ctr'})"
   ]
  },
  {
   "cell_type": "code",
   "execution_count": 29,
   "id": "7935b2b2-e2d3-4cc6-9580-94bca97c8925",
   "metadata": {},
   "outputs": [
    {
     "data": {
      "text/plain": [
       "Text(0.5, 0, 'CTR')"
      ]
     },
     "execution_count": 29,
     "metadata": {},
     "output_type": "execute_result"
    },
    {
     "data": {
      "image/png": "[encoded data removed]",
      "text/plain": [
       "<Figure size 842.4x595.44 with 1 Axes>"
      ]
     },
     "metadata": {},
     "output_type": "display_data"
    }
   ],
   "source": [
    "# Изобразим распределения CTR пользовательских бакетов для обеих групп.\n",
    "\n",
    "sns.histplot(df_with_buckets[df_with_buckets.exp_group == 1].bucket_ctr, color='red', bins=20)\n",
    "sns.histplot(df_with_buckets[df_with_buckets.exp_group == 2].bucket_ctr, color='purple', bins=20)\n",
    "plt.legend(labels=['control', 'test'])\n",
    "plt.ylabel('')\n",
    "plt.xlabel('CTR')"
   ]
  },
  {
   "cell_type": "code",
   "execution_count": 30,
   "id": "cdd4b23d-ffda-4316-a4df-9b0c2520a085",
   "metadata": {},
   "outputs": [
    {
     "name": "stdout",
     "output_type": "stream",
     "text": [
      "Полученное в результате проведения t-теста значение p-value = 1.1226454834121217e-07\n"
     ]
    }
   ],
   "source": [
    "# Проведём сравнение обеих групп бакетов t-тестом.\n",
    "\n",
    "_, pval_t = stats.ttest_ind(df_with_buckets[df_with_buckets.exp_group == 1].bucket_ctr,\n",
    "                df_with_buckets[df_with_buckets.exp_group == 2].bucket_ctr,\n",
    "                equal_var=False)\n",
    "\n",
    "print('Полученное в результате проведения t-теста значение p-value =', pval_t)"
   ]
  },
  {
   "cell_type": "code",
   "execution_count": 31,
   "id": "b30bba07-633c-4232-84c2-724deae41f06",
   "metadata": {},
   "outputs": [
    {
     "name": "stdout",
     "output_type": "stream",
     "text": [
      "Полученное в результате проведения теста Манна-Уитни значение p-value = 5.830752033123653e-08\n"
     ]
    }
   ],
   "source": [
    "# Проведём сравнение обеих групп бакетов тестом Манна-Уитни.\n",
    "\n",
    "_, pval_u = stats.mannwhitneyu(df_with_buckets[df_with_buckets.exp_group == 1].bucket_ctr,\n",
    "                df_with_buckets[df_with_buckets.exp_group == 2].bucket_ctr,\n",
    "                alternative='two-sided')\n",
    "\n",
    "print('Полученное в результате проведения теста Манна-Уитни значение p-value =', pval_u)"
   ]
  },
  {
   "cell_type": "markdown",
   "id": "60be23d5-86aa-41b5-b5ea-411c592822f3",
   "metadata": {
    "tags": []
   },
   "source": [
    "## На основании проведенного А/Б-теста можно сделать вывод о том, что тестовая и контрольная группы значимо различаются, но при этом у тестовой группы средний показатель CTR ниже, чем у контрольной группы. У определенной доли пользователей среди тестовой группы увеличился показатель CTR (сдвинулся вправо относительно среднего значения распределения контрольной группы), однако у большей доли пользователей среди тестовой группы произошло ухудшение данного показателя (сдвинулся влево относительно среднего значения распределения контрольной группы). Это может означать, что на часть пользователей новый алгоритм подействовал положительно, как задумано, однако у большинства пользователей среди тестовой группы из-за нового алгоритма CTR снизился. Именно поэтому распределение CTR тестовой группы имеет два пика. Поэтому итоговым советом будет отказаться раскатывать новый алгоритм на всех новых пользователей, поскольку с большой вероятностью он не понравиться большей части нашей аудитории."
   ]
  }
 ],
 "metadata": {
  "kernelspec": {
   "display_name": "Python 3 (ipykernel)",
   "language": "python",
   "name": "python3"
  },
  "language_info": {
   "codemirror_mode": {
    "name": "ipython",
    "version": 3
   },
   "file_extension": ".py",
   "mimetype": "text/x-python",
   "name": "python",
   "nbconvert_exporter": "python",
   "pygments_lexer": "ipython3",
   "version": "3.8.10"
  }
 },
 "nbformat": 4,
 "nbformat_minor": 5
}
